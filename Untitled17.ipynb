{
 "cells": [
  {
   "cell_type": "code",
   "execution_count": 3,
   "id": "d4c04dca",
   "metadata": {},
   "outputs": [],
   "source": [
    "import time"
   ]
  },
  {
   "cell_type": "code",
   "execution_count": 4,
   "id": "e3c903ca",
   "metadata": {},
   "outputs": [
    {
     "name": "stdout",
     "output_type": "stream",
     "text": [
      "ABCDE\n",
      "EDCBA\n"
     ]
    }
   ],
   "source": [
    "String=input() \n",
    "List=list(String)\n",
    "#print(List)\n",
    "#Reversed_String=String \n",
    "N=len(String) \n",
    "I=0 \n",
    "J=N-1\n",
    "while (I<J):\n",
    "    List[I],List[J]=List[J],List[I]\n",
    "   #String[I],String[J]=String[J],String[I] \n",
    "    I+=1 \n",
    "    J-=1 \n",
    "String=\"\".join(List)\n",
    "print(String)"
   ]
  },
  {
   "cell_type": "code",
   "execution_count": 5,
   "id": "0d071449",
   "metadata": {},
   "outputs": [
    {
     "name": "stdout",
     "output_type": "stream",
     "text": [
      "Lenovo’s Legion laptop is designed with the advanced gamer in mind. This powerful device has AMD Ryzen 5 4600H processor and 8GB RAM DDR4 3200Mhz for superior gaming performance. Lenovo’s legion laptop offers 1TB HDD + 256 GB SSD and optimal cooling for improved performance. The Legion Coldfront 2.0 has four exhaust channels, a six-point thermal sensor array, dual liquid crystal polymer-coated fans and dedicated copper heat pipes. Giving this laptop a sleek look is its phantom black body with an iridescent logo finish and top-placed webcam with a privacy shutter.\n"
     ]
    }
   ],
   "source": [
    "String=\"Lenovo’s Legion laptop is designed with the advanced gamer in mind. This powerful device has AMD Ryzen 5 4600H processor and 8GB RAM DDR4 3200Mhz for superior gaming performance. Lenovo’s legion laptop offers 1TB HDD + 256 GB SSD and optimal cooling for improved performance. The Legion Coldfront 2.0 has four exhaust channels, a six-point thermal sensor array, dual liquid crystal polymer-coated fans and dedicated copper heat pipes. Giving this laptop a sleek look is its phantom black body with an iridescent logo finish and top-placed webcam with a privacy shutter.\"\n",
    "print(String)"
   ]
  },
  {
   "cell_type": "code",
   "execution_count": 6,
   "id": "2fc12196",
   "metadata": {},
   "outputs": [
    {
     "name": "stdout",
     "output_type": "stream",
     "text": [
      ".rettuhs ycavirp a htiw macbew decalp-pot dna hsinif ogol tnecsediri na htiw ydob kcalb motnahp sti si kool keels a potpal siht gniviG .sepip taeh reppoc detacided dna snaf detaoc-remylop latsyrc diuqil laud ,yarra rosnes lamreht tniop-xis a ,slennahc tsuahxe ruof sah 0.2 tnorfdloC noigeL ehT .ecnamrofrep devorpmi rof gnilooc lamitpo dna DSS BG 652 + DDH BT1 sreffo potpal noigel s’ovoneL .ecnamrofrep gnimag roirepus rof zhM0023 4RDD MAR BG8 dna rossecorp H0064 5 nezyR DMA sah ecived lufrewop sihT .dnim ni remag decnavda eht htiw dengised si potpal noigeL s’ovoneL\n",
      "0.9980201721191406\n"
     ]
    }
   ],
   "source": [
    "List=list(String)\n",
    "N=len(String) \n",
    "Start=time.time()\n",
    "I=0 \n",
    "J=N-1\n",
    "while (I<J):\n",
    "    List[I],List[J]=List[J],List[I]\n",
    "   #String[I],String[J]=String[J],String[I] \n",
    "    I+=1 \n",
    "    J-=1 \n",
    "End=time.time()\n",
    "String=\"\".join(List)\n",
    "Total=End-Start\n",
    "print(String)\n",
    "print(Total*1000)"
   ]
  },
  {
   "cell_type": "code",
   "execution_count": 7,
   "id": "78c64a77",
   "metadata": {},
   "outputs": [
    {
     "name": "stdout",
     "output_type": "stream",
     "text": [
      ".rettuhs ycavirp a htiw macbew decalp-pot dna hsinif ogol tnecsediri na htiw ydob kcalb motnahp sti si kool keels a potpal siht gniviG .sepip taeh reppoc detacided dna snaf detaoc-remylop latsyrc diuqil laud ,yarra rosnes lamreht tniop-xis a ,slennahc tsuahxe ruof sah 0.2 tnorfdloC noigeL ehT .ecnamrofrep devorpmi rof gnilooc lamitpo dna DSS BG 652 + DDH BT1 sreffo potpal noigel s’ovoneL .ecnamrofrep gnimag roirepus rof zhM0023 4RDD MAR BG8 dna rossecorp H0064 5 nezyR DMA sah ecived lufrewop sihT .dnim ni remag decnavda eht htiw dengised si potpal noigeL s’ovoneL\n",
      "4.8007965087890625\n"
     ]
    }
   ],
   "source": [
    "##Using recursion\n",
    "\n",
    "def String_Reversal(String,index,Length):\n",
    "    if (Length==0):\n",
    "        return\n",
    "    if (index==Length):\n",
    "        return \n",
    "    Temp=String[index] \n",
    "    String_Reversal(String,index+1,Length)\n",
    "    print(Temp,end=\"\")\n",
    "String=\"Lenovo’s Legion laptop is designed with the advanced gamer in mind. This powerful device has AMD Ryzen 5 4600H processor and 8GB RAM DDR4 3200Mhz for superior gaming performance. Lenovo’s legion laptop offers 1TB HDD + 256 GB SSD and optimal cooling for improved performance. The Legion Coldfront 2.0 has four exhaust channels, a six-point thermal sensor array, dual liquid crystal polymer-coated fans and dedicated copper heat pipes. Giving this laptop a sleek look is its phantom black body with an iridescent logo finish and top-placed webcam with a privacy shutter.\"\n",
    "Start=time.time()\n",
    "String_Reversal(String,0,len(String)) \n",
    "End=time.time() \n",
    "Total=End-Start\n",
    "print()\n",
    "print(Total*1000)"
   ]
  },
  {
   "cell_type": "code",
   "execution_count": 8,
   "id": "48191843",
   "metadata": {},
   "outputs": [],
   "source": [
    "import threading"
   ]
  },
  {
   "cell_type": "code",
   "execution_count": 10,
   "id": "ad733950",
   "metadata": {},
   "outputs": [
    {
     "name": "stdout",
     "output_type": "stream",
     "text": [
      "Lenovo’s Legion laptop is designed with the advanced gamer in mind. This powerful device has AMD Ryzen 5 4600H processor and 8GB RAM DDR4 3200Mhz for superior gaming performance. Lenovo’s legion laptop offers 1TB HDD + 256 GB SSD and optimal cooling for improved performance. The Legion Coldfront 2.0 has four exhaust channels, a six-point thermal sensor array, dual liquid crystal polymer-coated fans and dedicated copper heat pipes. Giving this laptop a sleek look is its phantom black body with an iridescent logo finish and top-placed webcam with a privacy shutter.\n",
      "Reversed string: .rettuhs ycavirp a htiw macbew decalp-pot dna hsinif ogol tnecsediri na htiw ydob kcalb motnahp sti si kool keels a potpal siht gniviG .sepip taeh reppoc detacided dna snaf detaoc-remylop latsyrc diuqil laud ,yarra rosnes lamreht tniop-xis a ,slennahc tsuahxe ruof sah 0.2 tnorfdloC noigeL ehT .ecnamrofrep devorpmi rof gnilooc lamitpo dna DSS BG 652 + DDH BT1 sreffo potpal noigel s’ovoneL .ecnamrofrep gnimag roirepus rof zhM0023 4RDD MAR BG8 dna rossecorp H0064 5 nezyR DMA sah ecived lufrewop sihT .dnim ni remag decnavda eht htiw dengised si potpal noigeL s’ovoneL\n"
     ]
    }
   ],
   "source": [
    "class reverse_string(threading.Thread):\n",
    "    def __init__(self,input_str):\n",
    "        threading.Thread.__init__(self)\n",
    "        self.input_str=input_str\n",
    "    def run(self) -> None:\n",
    "        reverse_string=self.input_str[::-1]\n",
    "        print(\"Reversed string:\",reverse_string)\n",
    "String=input()\n",
    "reverse_string=reverse_string(String)\n",
    "reverse_string.start()"
   ]
  },
  {
   "cell_type": "code",
   "execution_count": null,
   "id": "0f5c9bc2",
   "metadata": {},
   "outputs": [],
   "source": []
  }
 ],
 "metadata": {
  "kernelspec": {
   "display_name": "Python 3 (ipykernel)",
   "language": "python",
   "name": "python3"
  },
  "language_info": {
   "codemirror_mode": {
    "name": "ipython",
    "version": 3
   },
   "file_extension": ".py",
   "mimetype": "text/x-python",
   "name": "python",
   "nbconvert_exporter": "python",
   "pygments_lexer": "ipython3",
   "version": "3.9.13"
  }
 },
 "nbformat": 4,
 "nbformat_minor": 5
}
